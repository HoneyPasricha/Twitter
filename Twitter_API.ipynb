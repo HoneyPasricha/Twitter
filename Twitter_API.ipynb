{
 "cells": [
  {
   "cell_type": "markdown",
   "metadata": {},
   "source": [
    "This is this eighth in a series of notebooks designed to show you how to analyze social media data. For demonstration purposes we are looking at tweets sent by CSR-related Twitter accounts -- accounts related to ethics, equality, the environment, etc. -- of Fortune 200 firms in 2013. I assume you have already downloaded the data and have completed the steps taken in previous chapters:\n",
    "\n",
    "- <a href=\"http://social-metrics.org/api-keys/\" target=\"_blank\">Setting up Access to the Twitter API</a>\n",
    "\n",
    "In this notebook I will show you how to run, interpret, and output a logistic regression. Whenever you have a <i>binary</i> dependent variable such as `RTs_binary`, you'll want to run logistic or probit model for your regressions. \n",
    "<br>"
   ]
  },
  {
   "cell_type": "markdown",
   "metadata": {},
   "source": [
    "https://twython.readthedocs.io/en/latest/usage/starting_out.html"
   ]
  },
  {
   "cell_type": "code",
   "execution_count": 28,
   "metadata": {
    "collapsed": false
   },
   "outputs": [],
   "source": [
    "from twython import Twython"
   ]
  },
  {
   "cell_type": "markdown",
   "metadata": {},
   "source": [
    "# Oauth1"
   ]
  },
  {
   "cell_type": "markdown",
   "metadata": {},
   "source": [
    "##### Generated Automatically -- Copy from Your 'Keys and Access Tokens' Page\n",
    "THESE WILL NOT CHANGE"
   ]
  },
  {
   "cell_type": "code",
   "execution_count": 19,
   "metadata": {
    "collapsed": true
   },
   "outputs": [],
   "source": [
    "APP_KEY = 'YOUR APP KEY'\n",
    "APP_SECRET = 'YOUR APP SECRET'"
   ]
  },
  {
   "cell_type": "markdown",
   "metadata": {},
   "source": [
    "##### You Generate these two variables from you 'Keys and Access Tokens' Page\n",
    "THESE CHANGE WHENEVER YOU 'REGENERATE' THEM"
   ]
  },
  {
   "cell_type": "code",
   "execution_count": 20,
   "metadata": {
    "collapsed": true
   },
   "outputs": [],
   "source": [
    "OAUTH_TOKEN = 'YOUR OAUTH TOKEN'\n",
    "OAUTH_TOKEN_SECRET = 'YOUR OAUTH SECRET'\n",
    "twitter = Twython(APP_KEY, APP_SECRET,\n",
    "                  OAUTH_TOKEN, OAUTH_TOKEN_SECRET)"
   ]
  },
  {
   "cell_type": "markdown",
   "metadata": {},
   "source": [
    "##### Note the rate limit of 180 API calls"
   ]
  },
  {
   "cell_type": "code",
   "execution_count": 21,
   "metadata": {
    "collapsed": false
   },
   "outputs": [
    {
     "data": {
      "text/plain": [
       "{u'/search/tweets': {u'limit': 180, u'remaining': 180, u'reset': 1479421815}}"
      ]
     },
     "execution_count": 21,
     "metadata": {},
     "output_type": "execute_result"
    }
   ],
   "source": [
    "twitter.get_application_rate_limit_status()['resources']['search']"
   ]
  },
  {
   "cell_type": "markdown",
   "metadata": {},
   "source": [
    "# OAuth2\n",
    "SIMPLER METHOD -- ALSO ALLOWS BETTER API RATE LIMITS IN MOST CASES"
   ]
  },
  {
   "cell_type": "code",
   "execution_count": 32,
   "metadata": {
    "collapsed": true
   },
   "outputs": [],
   "source": [
    "APP_KEY = 'YOUR APP KEY'\n",
    "APP_SECRET = 'YOUR APP SECRET'\n",
    "twitter = Twython(APP_KEY, APP_SECRET, oauth_version=2)\n",
    "ACCESS_TOKEN = twitter.obtain_access_token()"
   ]
  },
  {
   "cell_type": "markdown",
   "metadata": {},
   "source": [
    "##### Print out your ACCESS_TOKEN "
   ]
  },
  {
   "cell_type": "code",
   "execution_count": 1,
   "metadata": {
    "collapsed": false
   },
   "outputs": [],
   "source": [
    "print ACCESS_TOKEN"
   ]
  },
  {
   "cell_type": "code",
   "execution_count": 34,
   "metadata": {
    "collapsed": true
   },
   "outputs": [],
   "source": [
    "APP_KEY = 'YOUR APP KEY'\n",
    "ACCESS_TOKEN = 'YOUR ACCESS TOKEN'\n",
    "twitter = Twython(APP_KEY, access_token=ACCESS_TOKEN)"
   ]
  },
  {
   "cell_type": "markdown",
   "metadata": {},
   "source": [
    "##### Note the rate limit of 450 API calls\n",
    "https://dev.twitter.com/rest/public/rate-limits\n",
    "\n",
    "OAuth1 will give you 'user' access to the API, whereas OAuth2 will give you 'app' access. For academic use the rate limits are generally better for OAuth2 authentication, with a few exceptions. "
   ]
  },
  {
   "cell_type": "code",
   "execution_count": 35,
   "metadata": {
    "collapsed": false
   },
   "outputs": [
    {
     "data": {
      "text/plain": [
       "{u'/search/tweets': {u'limit': 450, u'remaining': 450, u'reset': 1479692706}}"
      ]
     },
     "execution_count": 35,
     "metadata": {},
     "output_type": "execute_result"
    }
   ],
   "source": [
    "twitter.get_application_rate_limit_status()['resources']['search']"
   ]
  },
  {
   "cell_type": "markdown",
   "metadata": {},
   "source": [
    "<br>\n",
    "\n",
    "For more Notebooks as well as additional Python and Big Data tutorials, please visit http://social-metrics.org or follow me on Twitter <a href='https://twitter.com/gregorysaxton'>@gregorysaxton</a>"
   ]
  }
 ],
 "metadata": {
  "kernelspec": {
   "display_name": "Python 2",
   "language": "python",
   "name": "python2"
  },
  "language_info": {
   "codemirror_mode": {
    "name": "ipython",
    "version": 2
   },
   "file_extension": ".py",
   "mimetype": "text/x-python",
   "name": "python",
   "nbconvert_exporter": "python",
   "pygments_lexer": "ipython2",
   "version": "2.7.12"
  }
 },
 "nbformat": 4,
 "nbformat_minor": 0
}
